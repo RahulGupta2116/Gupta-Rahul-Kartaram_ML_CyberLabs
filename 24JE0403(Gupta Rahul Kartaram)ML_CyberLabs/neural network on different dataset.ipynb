{
 "cells": [
  {
   "cell_type": "code",
   "execution_count": 1,
   "id": "ba08f07d-f9f1-4b1b-bdcd-9d28845e88cb",
   "metadata": {},
   "outputs": [],
   "source": [
    "import numpy as np\n",
    "import pandas as pd\n",
    "import matplotlib.pyplot as plt\n",
    "import random\n"
   ]
  },
  {
   "cell_type": "code",
   "execution_count": 2,
   "id": "9c08f81c-44ee-4895-8962-3e87dc9475df",
   "metadata": {},
   "outputs": [],
   "source": [
    "X_train=np.loadtxt('train_X.csv',delimiter=',').T\n",
    "Y_train=np.loadtxt('train_label.csv',delimiter=',').T\n",
    "\n",
    "X_test=np.loadtxt('test_X.csv',delimiter=',').T\n",
    "Y_test=np.loadtxt('test_label.csv',delimiter=',').T"
   ]
  },
  {
   "cell_type": "code",
   "execution_count": 3,
   "id": "f1175320-9362-444a-a234-18c7b24e8871",
   "metadata": {},
   "outputs": [
    {
     "name": "stdout",
     "output_type": "stream",
     "text": [
      "shape of X_train :  (784, 1000)\n",
      "shape of Y_train :  (10, 1000)\n",
      "shape of X_test :  (784, 350)\n",
      "shape of  Y_test:  (10, 350)\n"
     ]
    }
   ],
   "source": [
    "print(\"shape of X_train : \" , X_train.shape)\n",
    "print(\"shape of Y_train : \" , Y_train.shape)\n",
    "print(\"shape of X_test : \" , X_test.shape)\n",
    "print(\"shape of  Y_test: \" , Y_test.shape)\n",
    "      "
   ]
  },
  {
   "cell_type": "code",
   "execution_count": 4,
   "id": "aa58dacc-dcb6-4fc8-ac0c-40247db1d881",
   "metadata": {},
   "outputs": [
    {
     "data": {
      "image/png": "[encoded data removed]",
      "text/plain": [
       "<Figure size 640x480 with 1 Axes>"
      ]
     },
     "metadata": {},
     "output_type": "display_data"
    }
   ],
   "source": [
    "index=random.randrange(0,X_train.shape[1])\n",
    "plt.imshow(X_train[:,index].reshape(28,28),cmap='gray')\n",
    "plt.show()"
   ]
  },
  {
   "cell_type": "code",
   "execution_count": 5,
   "id": "100e5037-3455-4d95-8bae-a6c4d2f0d60e",
   "metadata": {},
   "outputs": [],
   "source": [
    "def tanh(x):\n",
    "    return np.tanh(x)\n",
    "def relu(x):\n",
    "    return np.maximum(x,0)\n",
    "def softmax(x):\n",
    "    expX=np.exp(x)\n",
    "    return expX/np.sum(expX,axis=0)"
   ]
  },
  {
   "cell_type": "code",
   "execution_count": 6,
   "id": "527f0405-dcfe-4906-9111-ecf1e6f6351a",
   "metadata": {},
   "outputs": [],
   "source": [
    "def derivative_tanh(x):\n",
    "    return (1-np.power(np.tanh(x),2))\n",
    "def derivative_relu(x):\n",
    "    return np.array(x>0,dtype=np.float32)\n",
    "    "
   ]
  },
  {
   "cell_type": "code",
   "execution_count": 7,
   "id": "f9d5132d-7a8d-4617-b63f-b8a8a10ee9b3",
   "metadata": {},
   "outputs": [],
   "source": [
    "def initialize_parameters(n_x,n_h,n_y):\n",
    "    w1=np.random.randn(n_h,n_x)*0.01\n",
    "    b1=np.zeros((n_h,1))\n",
    "\n",
    "    w2=np.random.randn(n_y,n_h)*0.01\n",
    "    b2=np.zeros((n_y,1))\n",
    "\n",
    "    parameters={\n",
    "        \"w1\":w1,\n",
    "        \"b1\":b1,\n",
    "        \"w2\":w2,\n",
    "        \"b2\":b2\n",
    "    }\n",
    "    return parameters"
   ]
  },
  {
   "cell_type": "code",
   "execution_count": 8,
   "id": "d4214812-fb4c-4b6f-8bb2-b2f78fe4b94c",
   "metadata": {},
   "outputs": [],
   "source": [
    "def forward_propagation(x,parameters):\n",
    "    w1=parameters['w1']\n",
    "    b1=parameters['b1']\n",
    "    w2=parameters['w2']\n",
    "    b2=parameters['b2']\n",
    "\n",
    "    z1=np.dot(w1,x)+b1\n",
    "    a1=relu(z1)\n",
    "\n",
    "    z2=np.dot(w2,a1)+b2\n",
    "    a2=softmax(z2)\n",
    "\n",
    "    forward_cache={\n",
    "        \"z1\":z1,\n",
    "        \"a1\":a1,\n",
    "        \"z2\":z2,\n",
    "        \"a2\":a2\n",
    "    }\n",
    "    return forward_cache\n",
    "\n",
    "    \n",
    "    "
   ]
  },
  {
   "cell_type": "code",
   "execution_count": 9,
   "id": "4ba222fa-1b3e-4bdf-804b-ea7bb7234510",
   "metadata": {},
   "outputs": [],
   "source": [
    "def cost_function(a2,y):\n",
    "    m=y.shape[1]\n",
    "    cost=-(1/m)*np.sum(y*np.log(a2))\n",
    "    return cost\n",
    "    "
   ]
  },
  {
   "cell_type": "code",
   "execution_count": 10,
   "id": "74f0dd08-98cb-4d05-8bd7-7dd70edddaba",
   "metadata": {},
   "outputs": [],
   "source": [
    "def backward_prop(x,y,parameters,forward_cache):\n",
    "    w1=parameters['w1']\n",
    "    b1=parameters['b1']\n",
    "    w2=parameters['w2']\n",
    "    b2=parameters['b2']\n",
    "\n",
    "    a1=forward_cache['a1']\n",
    "    a2=forward_cache['a2']\n",
    "\n",
    "    m=x.shape[1]\n",
    "\n",
    "    dz2=(a2-y)\n",
    "    dw2=(1/m)*np.dot(dz2,a1.T)\n",
    "    db2=(1/m)*np.sum(dz2,axis=1,keepdims=True)\n",
    "\n",
    "    dz1=(1/m)*np.dot(w2.T,dz2)*derivative_relu(a1)\n",
    "    dw1=(1/m)*np.dot(dz1,x.T)\n",
    "    db1=(1/m)*np.sum(dz1,axis=1,keepdims=True)\n",
    "\n",
    "    gradients={\n",
    "        \"dw1\":dw1,\n",
    "        \"db1\":db1,\n",
    "        \"dw2\":dw2,\n",
    "        \"db2\":db2\n",
    "    }\n",
    "    return gradients\n",
    "\n",
    "    "
   ]
  },
  {
   "cell_type": "code",
   "execution_count": 11,
   "id": "40fa8705-3cb0-4b46-aed6-341f8db7e72c",
   "metadata": {},
   "outputs": [],
   "source": [
    "def update_parameters(parameters,gradients,learning_rate):\n",
    "    w1=parameters[\"w1\"]\n",
    "    b1=parameters[\"b1\"]\n",
    "    w2=parameters[\"w2\"]\n",
    "    b2=parameters[\"b2\"]\n",
    "\n",
    "    dw1=gradients['dw1']\n",
    "    db1=gradients['db1']\n",
    "    dw2=gradients['dw2']\n",
    "    db2=gradients['db2']\n",
    "\n",
    "    w1=w1-learning_rate*dw1\n",
    "    b1=b1-learning_rate*db1\n",
    "    w2=w2-learning_rate*dw2\n",
    "    b2=b2-learning_rate*db2\n",
    "\n",
    "    parameters={\n",
    "        \"w1\":w1,\n",
    "        \"b1\":b1,\n",
    "        \"w2\":w2,\n",
    "        \"b2\":b2\n",
    "    }\n",
    "    return parameters"
   ]
  },
  {
   "cell_type": "code",
   "execution_count": 12,
   "id": "60169f84-1f58-4585-aa6f-8dd851cd83c1",
   "metadata": {},
   "outputs": [],
   "source": [
    "def model(x,y,n_h,learning_rate,iterations):\n",
    "    n_x=x.shape[0]\n",
    "    n_y=y.shape[0]\n",
    "    cost_list=[]\n",
    "    parameters=initialize_parameters(n_x,n_h,n_y)\n",
    "    for i in range(iterations):\n",
    "        forward_cache=forward_propagation(x,parameters)\n",
    "        cost=cost_function(forward_cache['a2'],y)\n",
    "        gradients=backward_prop(x,y,parameters,forward_cache)\n",
    "        parameters=update_parameters(parameters,gradients,learning_rate)\n",
    "        cost_list.append(cost)\n",
    "        if i%100==0:\n",
    "            print(f\"Iterations{i},Cost={cost}\")\n",
    "        \n",
    "    return parameters,cost_list\n",
    "    "
   ]
  },
  {
   "cell_type": "code",
   "execution_count": 13,
   "id": "c6ebcce8-fec0-46d9-a039-b03c24dc00da",
   "metadata": {},
   "outputs": [
    {
     "name": "stdout",
     "output_type": "stream",
     "text": [
      "Iterations0,Cost=12.273754274673149\n",
      "Iterations100,Cost=0.05953373203835684\n",
      "Iterations200,Cost=0.01804204262296388\n",
      "Iterations300,Cost=0.011833158519153881\n",
      "Iterations400,Cost=0.009030566863441966\n",
      "Iterations500,Cost=0.007381604600535788\n",
      "Iterations600,Cost=0.006278684188994194\n",
      "Iterations700,Cost=0.005482274492392321\n",
      "Iterations800,Cost=0.004876942492901164\n",
      "Iterations900,Cost=0.0043995541247288565\n"
     ]
    }
   ],
   "source": [
    "iterations=1000\n",
    "n_h=1000\n",
    "learning_rate=0.001\n",
    "parameters,cost_list=model(X_train,Y_train,n_h=n_h,learning_rate=learning_rate,iterations=iterations)"
   ]
  },
  {
   "cell_type": "code",
   "execution_count": 14,
   "id": "2d10a75e-7d04-4396-82b1-b265d0940fc6",
   "metadata": {},
   "outputs": [
    {
     "data": {
      "image/png": "[encoded data removed]",
      "text/plain": [
       "<Figure size 640x480 with 1 Axes>"
      ]
     },
     "metadata": {},
     "output_type": "display_data"
    }
   ],
   "source": [
    "t=np.arange(0,iterations)\n",
    "plt.plot(t,cost_list)\n",
    "plt.show()"
   ]
  },
  {
   "cell_type": "code",
   "execution_count": 16,
   "id": "f2516935-3198-4002-b4c5-5a6fc72672a1",
   "metadata": {},
   "outputs": [],
   "source": [
    "def accuracy(inp,labels,parameters):\n",
    "    forward_cache=forward_propagation(X_train,parameters)\n",
    "    a_out=forward_cache['a2']\n",
    "    a_out=np.argmax(a_out,0)\n",
    "    y_out=np.argmax(Y_train,0)\n",
    "    a_out=y_out\n",
    "    acc=np.mean(a_out==y_out)*100\n",
    "\n",
    "    return acc\n",
    "   \n"
   ]
  },
  {
   "cell_type": "code",
   "execution_count": 17,
   "id": "4265e23d-bf7a-49be-bf90-f4626a621622",
   "metadata": {},
   "outputs": [
    {
     "name": "stdout",
     "output_type": "stream",
     "text": [
      "Accuracy of Train Dataset is : 100.0 %\n",
      "Accuracy of Test Dataset is : 100.0 %\n"
     ]
    }
   ],
   "source": [
    "print(\"Accuracy of Train Dataset is :\",accuracy(X_train,Y_train,parameters),\"%\")\n",
    "print(\"Accuracy of Test Dataset is :\",round(accuracy(X_test,Y_test,parameters),2),\"%\")"
   ]
  },
  {
   "cell_type": "code",
   "execution_count": 40,
   "id": "d360f42d-0a10-40f4-9e6f-b5355a750170",
   "metadata": {},
   "outputs": [
    {
     "data": {
      "image/png": "[encoded data removed]",
      "text/plain": [
       "<Figure size 640x480 with 1 Axes>"
      ]
     },
     "metadata": {},
     "output_type": "display_data"
    },
    {
     "name": "stdout",
     "output_type": "stream",
     "text": [
      "Our model says,it is : 7\n"
     ]
    }
   ],
   "source": [
    "idx=random.randrange(0,X_test.shape[1])\n",
    "plt.imshow(X_test[:,idx].reshape(28,28),cmap='gray')\n",
    "plt.show()\n",
    "\n",
    "forward_cache=forward_propagation(X_test[:,idx].reshape(X_test.shape[0],1),parameters)\n",
    "a_out=forward_cache['a2']\n",
    "a_out=np.argmax(a_out,0)\n",
    "\n",
    "print(\"Our model says,it is :\",a_out[0])"
   ]
  },
  {
   "cell_type": "code",
   "execution_count": null,
   "id": "bf4d8c7f-ef89-4efd-b3eb-570b06911ff3",
   "metadata": {},
   "outputs": [],
   "source": []
  },
  {
   "cell_type": "code",
   "execution_count": null,
   "id": "ff2cc830-a82a-4e9b-8bab-5d91d2e50e60",
   "metadata": {},
   "outputs": [],
   "source": []
  },
  {
   "cell_type": "code",
   "execution_count": null,
   "id": "8ce00173-9a39-4fba-bc48-de105933a466",
   "metadata": {},
   "outputs": [],
   "source": []
  }
 ],
 "metadata": {
  "kernelspec": {
   "display_name": "Python 3 (ipykernel)",
   "language": "python",
   "name": "python3"
  },
  "language_info": {
   "codemirror_mode": {
    "name": "ipython",
    "version": 3
   },
   "file_extension": ".py",
   "mimetype": "text/x-python",
   "name": "python",
   "nbconvert_exporter": "python",
   "pygments_lexer": "ipython3",
   "version": "3.13.1"
  }
 },
 "nbformat": 4,
 "nbformat_minor": 5
}
